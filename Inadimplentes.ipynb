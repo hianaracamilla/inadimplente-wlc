{
  "nbformat": 4,
  "nbformat_minor": 0,
  "metadata": {
    "colab": {
      "provenance": [],
      "include_colab_link": true
    },
    "kernelspec": {
      "name": "python3",
      "display_name": "Python 3"
    },
    "language_info": {
      "name": "python"
    }
  },
  "cells": [
    {
      "cell_type": "markdown",
      "metadata": {
        "id": "view-in-github",
        "colab_type": "text"
      },
      "source": [
        "<a href=\"https://colab.research.google.com/github/hianaracamilla/inadimplente-wlc/blob/main/Inadimplentes.ipynb\" target=\"_parent\"><img src=\"https://colab.research.google.com/assets/colab-badge.svg\" alt=\"Open In Colab\"/></a>"
      ]
    },
    {
      "cell_type": "markdown",
      "source": [
        "# **FILTRANDO INADIMPLENTES**\n",
        "\n",
        "---\n",
        "\n"
      ],
      "metadata": {
        "id": "35HbuOFgJHSg"
      }
    },
    {
      "cell_type": "markdown",
      "source": [
        "Importando Pandas"
      ],
      "metadata": {
        "id": "k2ZidCcYJDr2"
      }
    },
    {
      "cell_type": "code",
      "execution_count": 1,
      "metadata": {
        "id": "f_9aufXFcsnt"
      },
      "outputs": [],
      "source": [
        "import pandas as pd"
      ]
    },
    {
      "cell_type": "markdown",
      "source": [
        "Importar planilha google que contem os logins"
      ],
      "metadata": {
        "id": "ogw3Wi0lJUIC"
      }
    },
    {
      "cell_type": "code",
      "source": [
        "sheet_id = 'ID_DA_PLANILHA_GOOGLE'\n",
        "url = f'https://docs.google.com/spreadsheets/d/{sheet_id}/gviz/tq?tqx=out:csv&sheet'\n",
        "df_logins = pd.read_csv(url)"
      ],
      "metadata": {
        "id": "C4lUC798k8Sn"
      },
      "execution_count": null,
      "outputs": []
    },
    {
      "cell_type": "markdown",
      "source": [
        "Importar base de viagens e verifica quantas tabelas possui"
      ],
      "metadata": {
        "id": "SQG8JbVvJX_I"
      }
    },
    {
      "cell_type": "code",
      "source": [
        "inadimplente_html = pd.read_html('/content/inadimplentes_atual.html')\n",
        "len(inadimplente_html)"
      ],
      "metadata": {
        "id": "GL70kjnvc9TT",
        "colab": {
          "base_uri": "https://localhost:8080/"
        },
        "outputId": "e4d60c80-468e-44db-b3ec-822bce383856"
      },
      "execution_count": 2,
      "outputs": [
        {
          "output_type": "execute_result",
          "data": {
            "text/plain": [
              "6"
            ]
          },
          "metadata": {},
          "execution_count": 2
        }
      ]
    },
    {
      "cell_type": "markdown",
      "source": [
        "Selecionar tabela que estão as viagens"
      ],
      "metadata": {
        "id": "w2L9e5CTKG1N"
      }
    },
    {
      "cell_type": "code",
      "source": [
        "df = inadimplente_html[3]"
      ],
      "metadata": {
        "id": "mwPnVjHOdmKS"
      },
      "execution_count": 3,
      "outputs": []
    },
    {
      "cell_type": "markdown",
      "source": [
        "Apagar linhas e colunas que não serão utilizadas"
      ],
      "metadata": {
        "id": "8uCE9iJOKOj8"
      }
    },
    {
      "cell_type": "code",
      "source": [
        "df.drop([0,1,2,3,4,5], axis=0, inplace=True)\n",
        "df.drop([1, 6, 7, 8, 9, 11, 12, 14, 15, 16, 17, 18], axis=1, inplace=True)\n",
        "df.reset_index(drop=True, inplace=True)"
      ],
      "metadata": {
        "id": "RLLrO3woeYhp"
      },
      "execution_count": 4,
      "outputs": []
    },
    {
      "cell_type": "markdown",
      "source": [
        "Remover telefones duplicados e trata data deixando somente numeros"
      ],
      "metadata": {
        "id": "hI4eLpTUKZzY"
      }
    },
    {
      "cell_type": "code",
      "source": [
        "df = df.drop_duplicates([10])\n",
        "df[0] = df[0].str.split(' ').str[1]"
      ],
      "metadata": {
        "id": "zZS7nREohMSD",
        "colab": {
          "base_uri": "https://localhost:8080/"
        },
        "outputId": "0f04ad8e-814a-4dcd-9e65-508884b875aa"
      },
      "execution_count": 5,
      "outputs": [
        {
          "output_type": "stream",
          "name": "stderr",
          "text": [
            "<ipython-input-5-8a26bfb9785c>:2: SettingWithCopyWarning: \n",
            "A value is trying to be set on a copy of a slice from a DataFrame.\n",
            "Try using .loc[row_indexer,col_indexer] = value instead\n",
            "\n",
            "See the caveats in the documentation: https://pandas.pydata.org/pandas-docs/stable/user_guide/indexing.html#returning-a-view-versus-a-copy\n",
            "  df[0] = df[0].str.split(' ').str[1]\n"
          ]
        }
      ]
    },
    {
      "cell_type": "markdown",
      "source": [
        "Atribuir o nome data e Monto_Pendiente a listas de cabeçalho"
      ],
      "metadata": {
        "id": "wVPz7inIKg5t"
      }
    },
    {
      "cell_type": "code",
      "source": [
        "df.iloc[0, 0] = 'Data'\n",
        "df.iloc[0, 6] = 'Monto_Pendiente'"
      ],
      "metadata": {
        "id": "XQcOAhwvnI_N"
      },
      "execution_count": 6,
      "outputs": []
    },
    {
      "cell_type": "markdown",
      "source": [
        "Promover primeira linha para cabeçalho"
      ],
      "metadata": {
        "id": "H2Bhzn6cKpxx"
      }
    },
    {
      "cell_type": "code",
      "source": [
        "df.columns = df.iloc[0]\n",
        "df = df[1:]"
      ],
      "metadata": {
        "id": "mo_EVmUNBZh8"
      },
      "execution_count": 7,
      "outputs": []
    },
    {
      "cell_type": "markdown",
      "source": [
        "Função para limpar extrarir números de textos"
      ],
      "metadata": {
        "id": "GzzYg6DiK2y3"
      }
    },
    {
      "cell_type": "code",
      "source": [
        "def convert_to_int(value):\n",
        "    try:\n",
        "        value = str(value)\n",
        "        value = value.replace('$', '').replace(' ', '').replace('.', '')\n",
        "        return int(value)\n",
        "    except (ValueError, AttributeError):\n",
        "        return None"
      ],
      "metadata": {
        "id": "bJLemQ6UpRmG"
      },
      "execution_count": 8,
      "outputs": []
    },
    {
      "cell_type": "markdown",
      "source": [
        "[texto del vínculo](https://)Aplicando função na coluna Monto_Pendiente"
      ],
      "metadata": {
        "id": "KciHwSArLAlt"
      }
    },
    {
      "cell_type": "code",
      "source": [
        "df['Monto_Pendiente'] = df['Monto_Pendiente'].apply(convert_to_int)"
      ],
      "metadata": {
        "id": "0mD2oD3UwcL5"
      },
      "execution_count": 9,
      "outputs": []
    },
    {
      "cell_type": "markdown",
      "source": [
        "Criando filtro em monto_pendiente onde o valor em débito é maior que 1000 para considerar inadimplente e soma para saber quantos clientes estão inadimplentes"
      ],
      "metadata": {
        "id": "BVq8-QJtLHrH"
      }
    },
    {
      "cell_type": "code",
      "source": [
        "selecao_inadimplente = df['Monto_Pendiente'] > 999\n",
        "selecao_inadimplente.sum()"
      ],
      "metadata": {
        "id": "r9Dv69DHzUaT"
      },
      "execution_count": 10,
      "outputs": []
    },
    {
      "cell_type": "markdown",
      "source": [
        "Criando DF Inadimplente com o filtro"
      ],
      "metadata": {
        "id": "jEGCfWOyLXrd"
      }
    },
    {
      "cell_type": "code",
      "source": [
        "inadimplente = df[selecao_inadimplente]"
      ],
      "metadata": {
        "id": "G-_WIpPXzrfo"
      },
      "execution_count": 11,
      "outputs": []
    },
    {
      "cell_type": "markdown",
      "source": [
        "Criando Merge para saber qual setor de cada Login"
      ],
      "metadata": {
        "id": "Nq50lJ3KLuB2"
      }
    },
    {
      "cell_type": "code",
      "source": [
        "inadimplente = inadimplente.merge(df_logins, how='left', left_on='Vendedor', right_on='LOGIN')"
      ],
      "metadata": {
        "id": "n6txhIbGFrEw"
      },
      "execution_count": null,
      "outputs": []
    },
    {
      "cell_type": "markdown",
      "source": [
        "Apagando linhas que não tem setor, pois são transpaso"
      ],
      "metadata": {
        "id": "xT4O0HzlL32U"
      }
    },
    {
      "cell_type": "code",
      "source": [
        "inadimplente = inadimplente.dropna(subset=['SETOR'])\n",
        "inadimplente.drop('LOGIN', axis=1, inplace=True)"
      ],
      "metadata": {
        "id": "rI95yEhfL8wq"
      },
      "execution_count": null,
      "outputs": []
    },
    {
      "cell_type": "markdown",
      "source": [
        "Verifica qual é a data máxima para confirmar se é igual a hoje"
      ],
      "metadata": {
        "id": "_kpdT9ODZFcm"
      }
    },
    {
      "cell_type": "code",
      "source": [
        "inadimplente['Data'].max()"
      ],
      "metadata": {
        "id": "Tt9x2DV4Uvqk",
        "colab": {
          "base_uri": "https://localhost:8080/",
          "height": 35
        },
        "outputId": "0b62e7a1-3957-48e1-94e2-9f66a3e722ac"
      },
      "execution_count": 12,
      "outputs": [
        {
          "output_type": "execute_result",
          "data": {
            "text/plain": [
              "'31-07'"
            ],
            "application/vnd.google.colaboratory.intrinsic+json": {
              "type": "string"
            }
          },
          "metadata": {},
          "execution_count": 12
        }
      ]
    },
    {
      "cell_type": "markdown",
      "source": [
        "Altera a ordem das colunas"
      ],
      "metadata": {
        "id": "6Mc6hAGDebPc"
      }
    },
    {
      "cell_type": "code",
      "source": [
        "new_order = ['ID', 'Destino', 'Vendedor', 'SETOR', 'Data', 'Nome', 'Telefone', 'Monto_Pendiente']\n",
        "inadimplente = inadimplente[new_order]"
      ],
      "metadata": {
        "id": "W_BKH4Zcdqia"
      },
      "execution_count": null,
      "outputs": []
    },
    {
      "cell_type": "markdown",
      "source": [
        "Exportando tudo para excel"
      ],
      "metadata": {
        "id": "Aaefix_KL-2z"
      }
    },
    {
      "cell_type": "code",
      "source": [
        "inadimplente.to_excel('inadimplentes_atual.xlsx', index=False)"
      ],
      "metadata": {
        "id": "C8mAXUXw0-gE"
      },
      "execution_count": null,
      "outputs": []
    }
  ]
}